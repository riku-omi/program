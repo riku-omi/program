{
 "cells": [
  {
   "cell_type": "code",
   "execution_count": 50,
   "id": "ad8c9653",
   "metadata": {},
   "outputs": [],
   "source": [
    "import numpy as np\n",
    "import pandas as pd\n",
    "import graphviz\n",
    "import matplotlib.pyplot as plt\n",
    "import networkx as nx\n",
    " \n",
    "from causalnex.structure.notears import from_pandas\n",
    "from causalnex.structure import StructureModel\n",
    "\n",
    "from causalnex.structure.notears import from_pandas_lasso\n",
    "from causalnex.structure.pytorch import from_pandas as from_pandas_pytorch"
   ]
  },
  {
   "cell_type": "code",
   "execution_count": 51,
   "id": "311acd4a",
   "metadata": {},
   "outputs": [],
   "source": [
    "import os\n",
    "os.environ['KMP_DUPLICATE_LIB_OK']='TRUE'"
   ]
  },
  {
   "cell_type": "code",
   "execution_count": null,
   "id": "26a5f750",
   "metadata": {},
   "outputs": [],
   "source": [
    "sk = pd.read_csv('---')\n",
    "sk"
   ]
  },
  {
   "cell_type": "code",
   "execution_count": null,
   "id": "8bc53320",
   "metadata": {},
   "outputs": [],
   "source": [
    "sk1=sk.dropna(subset=[\"BW_increase\",\"regular_exercise\",\n",
    "                    \"walkspeed\",\"sleep\",\"chewing\"])\n",
    "sk1"
   ]
  },
  {
   "cell_type": "code",
   "execution_count": null,
   "id": "61e496b1",
   "metadata": {},
   "outputs": [],
   "source": [
    "#通常のcausalnex\n",
    "sm= from_pandas(sk)\n",
    "plt.figure(figsize=(18,10))\n",
    "pos = nx.spring_layout(sm, k=60)\n",
    "print(sm)\n",
    "edge_width = [ d['weight']*5 for (u,v,d) in sm.edges(data=True)]\n",
    "#print(edge_width)\n",
    "nx.draw_networkx_labels(sm, pos,font_family=\"Yu Gothic\", font_weight=\"bold\")\n",
    "nx.draw_networkx(sm,\n",
    "                 pos,\n",
    "                 node_size=4000,\n",
    "                 arrowsize=20,\n",
    "                 alpha=0.6,\n",
    "                 edge_color='b',\n",
    "                 width=edge_width)"
   ]
  },
  {
   "cell_type": "code",
   "execution_count": null,
   "id": "e28923d6",
   "metadata": {},
   "outputs": [],
   "source": [
    "# グラフをコピー\n",
    "COPY_SM = sm.copy()\n",
    "# 因果関係の弱いエッジを削除\n",
    "COPY_SM.remove_edges_below_threshold(0.05)\n",
    "# 可視化\n",
    "plt.figure(figsize=(20,20))\n",
    "pos = nx.spring_layout(COPY_SM, k=60)\n",
    "\n",
    "edge_width = [ d['weight']*5 for (u,v,d) in COPY_SM.edges(data=True)]\n",
    "print(COPY_SM.edges)\n",
    "\n",
    "\n",
    "new_edge = [round(edge_width[n], 2) for n in range(len(edge_width ))]\n",
    "print(new_edge)\n",
    "nx.draw_networkx_labels(COPY_SM, pos, font_family=\"Yu Gothic\", font_weight=\"bold\",font_size='20')\n",
    "nx.draw_networkx(COPY_SM,\n",
    "                 pos,\n",
    "                 node_size=10000,\n",
    "                 arrowsize=70,\n",
    "                 alpha=0.5,\n",
    "                 edge_color='b',\n",
    "                 width=edge_width)\n",
    "#plt.savefig('---')\n",
    "plt.show()"
   ]
  },
  {
   "cell_type": "code",
   "execution_count": 59,
   "id": "70710b56",
   "metadata": {},
   "outputs": [],
   "source": [
    "#causalnex_pytorch\n",
    "dist_type_schema = {c:'bin' if len(sk[c].unique())<5 else 'cont' for c in sk.columns}\n",
    "sm = from_pandas_pytorch(sk\n",
    "                        # , dist_type_schema = dist_type_schema\n",
    "                         , hidden_layer_units = None\n",
    "                         , lasso_beta = 0.1\n",
    "                         #, ridge_beta  = 0\n",
    "                         #, w_threshold = 0.1\n",
    "                         #, use_bias = False\n",
    "                        )"
   ]
  },
  {
   "cell_type": "code",
   "execution_count": null,
   "id": "e42efe7d",
   "metadata": {},
   "outputs": [],
   "source": [
    "plt.figure(figsize=(18,10))\n",
    "pos = nx.spring_layout(sm, k=60)\n",
    "print(sm)\n",
    "edge_width = [ d['weight']*5 for (u,v,d) in sm.edges(data=True)]\n",
    "#print(edge_width)\n",
    "nx.draw_networkx_labels(sm, pos,font_family=\"Yu Gothic\", font_weight=\"bold\")\n",
    "nx.draw_networkx(sm,\n",
    "                 pos,\n",
    "                 node_size=4000,\n",
    "                 arrowsize=20,\n",
    "                 alpha=0.6,\n",
    "                 edge_color='b',\n",
    "                 width=edge_width)"
   ]
  },
  {
   "cell_type": "code",
   "execution_count": null,
   "id": "832ec005",
   "metadata": {},
   "outputs": [],
   "source": [
    "# グラフをコピー\n",
    "COPY_SM = sm.copy()\n",
    "# 因果関係の弱いエッジを削除\n",
    "COPY_SM.remove_edges_below_threshold(0.05)\n",
    "# 可視化\n",
    "plt.figure(figsize=(20,20))\n",
    "pos = nx.spring_layout(COPY_SM, k=60)\n",
    "\n",
    "edge_width = [ d['weight']*5 for (u,v,d) in COPY_SM.edges(data=True)]\n",
    "print(COPY_SM.edges)\n",
    "\n",
    "\n",
    "new_edge = [round(edge_width[n], 2) for n in range(len(edge_width ))]\n",
    "print(new_edge)\n",
    "nx.draw_networkx_labels(COPY_SM, pos, font_family=\"Yu Gothic\", font_weight=\"bold\",font_size='20')\n",
    "nx.draw_networkx(COPY_SM,\n",
    "                 pos,\n",
    "                 node_size=10000,\n",
    "                 arrowsize=70,\n",
    "                 alpha=0.5,\n",
    "                 edge_color='b',\n",
    "                 width=edge_width)\n",
    "#plt.savefig('---')\n",
    "plt.show()"
   ]
  },
  {
   "cell_type": "code",
   "execution_count": 42,
   "id": "b581a38a",
   "metadata": {},
   "outputs": [],
   "source": [
    "#causalnex by lasso\n",
    "sm = from_pandas_lasso(sk\n",
    "                       , beta = 0.01 # L1 penalty の強さ\n",
    "                       , tabu_edges = [], tabu_parent_nodes = None, tabu_child_nodes = None,)"
   ]
  },
  {
   "cell_type": "code",
   "execution_count": null,
   "id": "f2513575",
   "metadata": {},
   "outputs": [],
   "source": [
    "plt.figure(figsize=(18,10))\n",
    "pos = nx.spring_layout(sm, k=60)\n",
    "print(sm)\n",
    "edge_width = [ d['weight']*5 for (u,v,d) in sm.edges(data=True)]\n",
    "#print(edge_width)\n",
    "nx.draw_networkx_labels(sm, pos,font_family=\"Yu Gothic\", font_weight=\"bold\")\n",
    "nx.draw_networkx(sm,\n",
    "                 pos,\n",
    "                 node_size=4000,\n",
    "                 arrowsize=20,\n",
    "                 alpha=0.6,\n",
    "                 edge_color='b',\n",
    "                 width=edge_width)"
   ]
  },
  {
   "cell_type": "code",
   "execution_count": null,
   "id": "937e3269",
   "metadata": {},
   "outputs": [],
   "source": [
    "# グラフをコピー\n",
    "COPY_SM = sm.copy()\n",
    "# 因果関係の弱いエッジを削除\n",
    "COPY_SM.remove_edges_below_threshold(0.1)\n",
    "# 可視化\n",
    "plt.figure(figsize=(20,20))\n",
    "pos = nx.spring_layout(COPY_SM, k=60)\n",
    "\n",
    "edge_width = [ d['weight']*5 for (u,v,d) in COPY_SM.edges(data=True)]\n",
    "print(COPY_SM.edges)\n",
    "\n",
    "\n",
    "new_edge = [round(edge_width[n], 2) for n in range(len(edge_width ))]\n",
    "print(new_edge)\n",
    "nx.draw_networkx_labels(COPY_SM, pos, font_family=\"Yu Gothic\", font_weight=\"bold\",font_size='20')\n",
    "nx.draw_networkx(COPY_SM,\n",
    "                 pos,\n",
    "                 node_size=10000,\n",
    "                 arrowsize=70,\n",
    "                 alpha=0.5,\n",
    "                 edge_color='b',\n",
    "                 width=edge_width)\n",
    "#plt.savefig('---')\n",
    "plt.show()"
   ]
  }
 ],
 "metadata": {
  "kernelspec": {
   "display_name": "Python 3 (ipykernel)",
   "language": "python",
   "name": "python3"
  },
  "language_info": {
   "codemirror_mode": {
    "name": "ipython",
    "version": 3
   },
   "file_extension": ".py",
   "mimetype": "text/x-python",
   "name": "python",
   "nbconvert_exporter": "python",
   "pygments_lexer": "ipython3",
   "version": "3.7.13"
  }
 },
 "nbformat": 4,
 "nbformat_minor": 5
}
