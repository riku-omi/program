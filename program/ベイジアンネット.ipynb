{
 "cells": [
  {
   "cell_type": "code",
   "execution_count": null,
   "id": "0187ca9e",
   "metadata": {},
   "outputs": [],
   "source": [
    "# ベイジアンネットワークが使える\n",
    "import pgmpy\n",
    "from pgmpy.estimators import MmhcEstimator\n",
    "from pgmpy.estimators import HillClimbSearch\n",
    "from pgmpy.estimators import BDeuScore\n",
    "import numpy as np\n",
    "import pandas as pd\n",
    "import graphviz\n",
    "import matplotlib.pyplot as plt\n",
    "\n",
    "import os\n",
    "os.environ['KMP_DUPLICATE_LIB_OK']='TRUE'\n",
    "sk = pd.read_csv(\"---\")"
   ]
  },
  {
   "cell_type": "code",
   "execution_count": null,
   "id": "35354f90",
   "metadata": {},
   "outputs": [],
   "source": [
    "sk1=sk.dropna(subset=[\"BW_increase\",\"regular_exercise\",\n",
    "                    \"walkspeed\",\"sleep\",\"chewing\"])\n",
    "sk1"
   ]
  },
  {
   "cell_type": "code",
   "execution_count": 3,
   "id": "3760e8b8",
   "metadata": {},
   "outputs": [
    {
     "name": "stderr",
     "output_type": "stream",
     "text": [
      "  0%|                                               | 0/1000000 [00:00<?, ?it/s]\n"
     ]
    }
   ],
   "source": [
    "mmhc = MmhcEstimator(sk)\n",
    "skeleton = mmhc.mmpc()\n",
    "model_mmhc = mmhc.estimate()  # DAG構築までならこれを実施\n",
    "#hc = HillClimbSearch(sk1)\n",
    "#model = hc.estimate(tabu_length=15, white_list=skeleton.to_directed().edges(), scoring_method=BDeuScore(sk1))"
   ]
  },
  {
   "cell_type": "code",
   "execution_count": null,
   "id": "e7d0959c",
   "metadata": {},
   "outputs": [],
   "source": [
    "import networkx as nx\n",
    "plt.figure(figsize=(18,10))\n",
    "pos = nx.spring_layout(model_mmhc, k=60)\n",
    "print(model_mmhc)\n",
    "#edge_width = [ d['weight']*5 for (u,v,d) in model_mmhc.edges(data=True)]\n",
    "#print(edge_width)\n",
    "nx.draw_networkx_labels(model_mmhc, pos,font_family=\"Yu Gothic\", font_weight=\"bold\")\n",
    "nx.draw_networkx(model_mmhc,\n",
    "                 pos,\n",
    "                 node_size=4000,\n",
    "                 arrowsize=20,\n",
    "                 alpha=0.6,\n",
    "                 edge_color='b',\n",
    "                )"
   ]
  },
  {
   "cell_type": "code",
   "execution_count": null,
   "id": "5aa70384",
   "metadata": {},
   "outputs": [],
   "source": [
    "# グラフをコピー\n",
    "COPY_SM = model_mmhc.copy()\n",
    "# 因果関係の弱いエッジを削除\n",
    "#COPY_SM.remove_edges_below_threshold(0.08)\n",
    "# 可視化\n",
    "plt.figure(figsize=(20,20))\n",
    "pos = nx.spring_layout(COPY_SM, k=60)\n",
    "\n",
    "#edge_width = [ d['weight']*5 for (u,v,d) in COPY_SM.edges(data=True)]\n",
    "print(COPY_SM.edges)\n",
    "\n",
    "\n",
    "#new_edge = [round(edge_width[n], 2) for n in range(len(edge_width ))]\n",
    "#print(new_edge)\n",
    "nx.draw_networkx_labels(COPY_SM, pos, font_family=\"Yu Gothic\", font_weight=\"bold\",font_size='20')\n",
    "nx.draw_networkx(COPY_SM,\n",
    "                 pos,\n",
    "                 node_size=10000,\n",
    "                 arrowsize=70,\n",
    "                 alpha=0.5,\n",
    "                 edge_color='b')"
   ]
  }
 ],
 "metadata": {
  "kernelspec": {
   "display_name": "Python 3 (ipykernel)",
   "language": "python",
   "name": "python3"
  },
  "language_info": {
   "codemirror_mode": {
    "name": "ipython",
    "version": 3
   },
   "file_extension": ".py",
   "mimetype": "text/x-python",
   "name": "python",
   "nbconvert_exporter": "python",
   "pygments_lexer": "ipython3",
   "version": "3.7.13"
  }
 },
 "nbformat": 4,
 "nbformat_minor": 5
}
